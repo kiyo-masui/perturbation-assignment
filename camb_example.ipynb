{
  "nbformat": 4,
  "nbformat_minor": 0,
  "metadata": {
    "colab": {
      "name": "camb_example.ipynb",
      "provenance": [],
      "authorship_tag": "ABX9TyPNxBhedGs56+SOFXzVu1ui"
    },
    "kernelspec": {
      "name": "python3",
      "display_name": "Python 3"
    }
  },
  "cells": [
    {
      "cell_type": "markdown",
      "metadata": {
        "id": "Z6UTx60qckaZ"
      },
      "source": [
        "**CAMB usage example for matter power spectrum**\n",
        "\n",
        "Taken from https://camb.readthedocs.io/en/latest/CAMBdemo.html"
      ]
    },
    {
      "cell_type": "code",
      "metadata": {
        "id": "cpQRNxe_cbRj",
        "outputId": "8e3362ac-f246-4964-db29-1c387106168a",
        "colab": {
          "base_uri": "https://localhost:8080/",
          "height": 275
        }
      },
      "source": [
        "!pip install camb"
      ],
      "execution_count": 2,
      "outputs": [
        {
          "output_type": "stream",
          "text": [
            "Collecting camb\n",
            "\u001b[?25l  Downloading https://files.pythonhosted.org/packages/90/ec/86088cb668cbd7f2444fc0b91e6b45680855bb5e50e0eba028b5357079d6/camb-1.1.3.tar.gz (1.5MB)\n",
            "\u001b[K     |████████████████████████████████| 1.5MB 7.5MB/s \n",
            "\u001b[?25hRequirement already satisfied: scipy>=1.0 in /usr/local/lib/python3.6/dist-packages (from camb) (1.4.1)\n",
            "Requirement already satisfied: sympy>=1.0 in /usr/local/lib/python3.6/dist-packages (from camb) (1.1.1)\n",
            "Requirement already satisfied: numpy>=1.13.3 in /usr/local/lib/python3.6/dist-packages (from scipy>=1.0->camb) (1.18.5)\n",
            "Requirement already satisfied: mpmath>=0.19 in /usr/local/lib/python3.6/dist-packages (from sympy>=1.0->camb) (1.1.0)\n",
            "Building wheels for collected packages: camb\n",
            "  Building wheel for camb (setup.py) ... \u001b[?25l\u001b[?25hdone\n",
            "  Created wheel for camb: filename=camb-1.1.3-cp36-none-any.whl size=893240 sha256=9a9e9e35a76fb89d747c4222c99d8171ce8bf43855496d0f57b8cbec395e288d\n",
            "  Stored in directory: /root/.cache/pip/wheels/6d/16/fb/9b365ff95e80a97ca666481803455312674ebc4cc53dc85095\n",
            "Successfully built camb\n",
            "Installing collected packages: camb\n",
            "Successfully installed camb-1.1.3\n"
          ],
          "name": "stdout"
        }
      ]
    },
    {
      "cell_type": "code",
      "metadata": {
        "id": "ua7NR4NxcswY"
      },
      "source": [
        "%matplotlib inline\n",
        "import matplotlib.pyplot as plt\n",
        "import numpy as np\n",
        "import camb\n",
        "from camb import model, initialpower"
      ],
      "execution_count": 5,
      "outputs": []
    },
    {
      "cell_type": "code",
      "metadata": {
        "id": "iwF7Vcwddu6K",
        "outputId": "4aade879-093c-47f8-c184-83510d8bf90e",
        "colab": {
          "base_uri": "https://localhost:8080/",
          "height": 34
        }
      },
      "source": [
        "#Now get matter power spectra and sigma8 at redshift 0 and 0.8\n",
        "pars = camb.CAMBparams()\n",
        "pars.set_cosmology(H0=67.5, ombh2=0.022, omch2=0.122)\n",
        "pars.InitPower.set_params(ns=0.965)\n",
        "#Note non-linear corrections couples to smaller scales than you want\n",
        "pars.set_matter_power(redshifts=[0., 0.8], kmax=2.0)\n",
        "\n",
        "#Linear spectra\n",
        "pars.NonLinear = model.NonLinear_none\n",
        "results = camb.get_results(pars)\n",
        "k_over_h, z, pk = results.get_matter_power_spectrum(minkh=1e-4, maxkh=1, npoints = 200)"
      ],
      "execution_count": 7,
      "outputs": [
        {
          "output_type": "stream",
          "text": [
            "Note: redshifts have been re-sorted (earliest first)\n"
          ],
          "name": "stdout"
        }
      ]
    },
    {
      "cell_type": "code",
      "metadata": {
        "id": "S6XhFI85d9TN",
        "outputId": "e4f6085c-e627-4ae7-8b0d-f937845e6270",
        "colab": {
          "base_uri": "https://localhost:8080/",
          "height": 299
        }
      },
      "source": [
        "for i, (redshift, line) in enumerate(zip(z,['-','--'])):\n",
        "    plt.loglog(k_over_h, pk[i,:], color='k', ls = line)\n",
        "plt.xlabel('k (h/Mpc)');\n",
        "plt.title('Matter power at z=%s and z= %s'%tuple(z));"
      ],
      "execution_count": 8,
      "outputs": [
        {
          "output_type": "display_data",
          "data": {
            "image/png": "[encoded data removed]",
            "text/plain": [
              "<Figure size 432x288 with 1 Axes>"
            ]
          },
          "metadata": {
            "tags": [],
            "needs_background": "light"
          }
        }
      ]
    },
    {
      "cell_type": "code",
      "metadata": {
        "id": "4otlK__Lehdl"
      },
      "source": [
        ""
      ],
      "execution_count": null,
      "outputs": []
    }
  ]
}